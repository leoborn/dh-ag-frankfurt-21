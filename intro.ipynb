{
 "cells": [
  {
   "cell_type": "markdown",
   "id": "e0322260",
   "metadata": {},
   "source": [
    "# Basic string operations"
   ]
  },
  {
   "cell_type": "code",
   "execution_count": null,
   "id": "43f5fbe4",
   "metadata": {},
   "outputs": [],
   "source": [
    "# Declaring a string\n",
    "test = \"Dies ist ein Test.\""
   ]
  },
  {
   "cell_type": "code",
   "execution_count": null,
   "id": "df00ba8c",
   "metadata": {},
   "outputs": [],
   "source": [
    "# To check whether a string contains a sub-string, use: sub-string in string\n",
    "\"ist\" in test"
   ]
  },
  {
   "cell_type": "code",
   "execution_count": null,
   "id": "d380f366",
   "metadata": {},
   "outputs": [],
   "source": [
    "# What's the difference?\n",
    "\"ist\" in \"test\""
   ]
  },
  {
   "cell_type": "code",
   "execution_count": null,
   "id": "49f42a53",
   "metadata": {},
   "outputs": [],
   "source": [
    "# Functions are defined like this:\n",
    "# def FUNCTION_NAME(arguments):\n",
    "# where arguments is either empty (== \"()\") or specifies the variable name (e.g. \"(value)\")\n",
    "# Note that argument ordering is important when calling a function!\n",
    "\n",
    "# This function takes some string as its first argument (variable name \"string\")\n",
    "# and another string as its second argument (variable name \"to_check\").\n",
    "# The function then simply checks if \"string\" contains \"to_check\" or not and outputs the answer.\n",
    "def does_string_contain(string, to_check):\n",
    "    if to_check not in string:\n",
    "        print(\"The string '\", string ,\"' does not contain '\", to_check, \"'\")\n",
    "    else:\n",
    "        print(\"The string '\", string ,\"' does contain '\", to_check, \"'\")\n",
    "\n",
    "does_string_contain(test, \"test\")"
   ]
  },
  {
   "cell_type": "code",
   "execution_count": null,
   "id": "14bffaca",
   "metadata": {},
   "outputs": [],
   "source": [
    "test = test.lower()"
   ]
  },
  {
   "cell_type": "code",
   "execution_count": null,
   "id": "97980f62",
   "metadata": {},
   "outputs": [],
   "source": [
    "does_string_contain(test, \"test\")"
   ]
  },
  {
   "cell_type": "code",
   "execution_count": 1,
   "id": "de5942dc",
   "metadata": {},
   "outputs": [
    {
     "data": {
      "text/plain": [
       "True"
      ]
     },
     "execution_count": 1,
     "metadata": {},
     "output_type": "execute_result"
    }
   ],
   "source": [
    "# To check for equality of strings, use the == operator\n",
    "\"Meiji\" == \"Meiji\""
   ]
  },
  {
   "cell_type": "code",
   "execution_count": 3,
   "id": "d556f25a",
   "metadata": {},
   "outputs": [
    {
     "data": {
      "text/plain": [
       "False"
      ]
     },
     "execution_count": 3,
     "metadata": {},
     "output_type": "execute_result"
    }
   ],
   "source": [
    "# As should be clear, this does not work because strings are case-sensitive\n",
    "\"Meiji\" == \"meiji\""
   ]
  },
  {
   "cell_type": "markdown",
   "id": "0017fc73",
   "metadata": {},
   "source": [
    "# Basic integer operations"
   ]
  },
  {
   "cell_type": "code",
   "execution_count": null,
   "id": "1683c873",
   "metadata": {},
   "outputs": [],
   "source": [
    "# Declaring an integer variable\n",
    "number = 1\n",
    "print(number)"
   ]
  },
  {
   "cell_type": "code",
   "execution_count": null,
   "id": "535f8d7c",
   "metadata": {},
   "outputs": [],
   "source": [
    "# Increasing an integer variable by 1\n",
    "number += 1\n",
    "print(number)"
   ]
  },
  {
   "cell_type": "code",
   "execution_count": null,
   "id": "25db34c4",
   "metadata": {},
   "outputs": [],
   "source": [
    "# Four basic arithmetic operations\n",
    "addition = number + 10\n",
    "print(\"Addition result:\", addition)\n",
    "subtraction = number - 15\n",
    "print(\"Subtraction result:\", subtraction)\n",
    "multiplication = number * 2\n",
    "print(\"Multiplication result:\", multiplication)\n",
    "division = number / 4\n",
    "print(\"Division result:\", division)"
   ]
  },
  {
   "cell_type": "markdown",
   "id": "39b952eb",
   "metadata": {},
   "source": [
    "# Basic type casting and interaction between strings and integers"
   ]
  },
  {
   "cell_type": "code",
   "execution_count": null,
   "id": "8afdcf51",
   "metadata": {},
   "outputs": [],
   "source": [
    "print(\"I combine\", test, \"with\", number)"
   ]
  },
  {
   "cell_type": "code",
   "execution_count": null,
   "id": "8f06a860",
   "metadata": {},
   "outputs": [],
   "source": [
    "new_test = test + number\n",
    "print(new_test)"
   ]
  },
  {
   "cell_type": "code",
   "execution_count": null,
   "id": "19e80dfc",
   "metadata": {},
   "outputs": [],
   "source": [
    "new_test = test + str(number)\n",
    "print(new_test)"
   ]
  },
  {
   "cell_type": "code",
   "execution_count": null,
   "id": "d0cf6d9e",
   "metadata": {},
   "outputs": [],
   "source": [
    "# Similarly\n",
    "string_number = \"1900\"\n",
    "as_integer = int(string_number)\n",
    "print(string_number, as_integer)"
   ]
  },
  {
   "cell_type": "code",
   "execution_count": null,
   "id": "b74eb6af",
   "metadata": {},
   "outputs": [],
   "source": [
    "string_number + 100"
   ]
  },
  {
   "cell_type": "code",
   "execution_count": null,
   "id": "37c8f1b6",
   "metadata": {},
   "outputs": [],
   "source": [
    "as_integer + 100"
   ]
  },
  {
   "cell_type": "markdown",
   "id": "85300665",
   "metadata": {},
   "source": [
    "# Arrays/Lists"
   ]
  },
  {
   "cell_type": "code",
   "execution_count": null,
   "id": "775f4b6c",
   "metadata": {},
   "outputs": [],
   "source": [
    "empty_list = []\n",
    "filled_list = [\"reiwa\", \"heisei\", \"showa\"]\n",
    "alldays_string = \"Monday,Tuesday,Wednesday,Thursday,Friday,Saturday,Sunday\""
   ]
  },
  {
   "cell_type": "code",
   "execution_count": null,
   "id": "2954cf18",
   "metadata": {},
   "outputs": [],
   "source": [
    "# To add an element to a List, use the \".append(element)\" function\n",
    "empty_list.append(1)\n",
    "empty_list.append(2)\n",
    "empty_list.append(4)"
   ]
  },
  {
   "cell_type": "code",
   "execution_count": null,
   "id": "120231b5",
   "metadata": {},
   "outputs": [],
   "source": [
    "print(empty_list)"
   ]
  },
  {
   "cell_type": "code",
   "execution_count": null,
   "id": "0aa68101",
   "metadata": {},
   "outputs": [],
   "source": [
    "# List elements are accessed using the index, which starts at 0 (== first element)\n",
    "empty_list[0]"
   ]
  },
  {
   "cell_type": "code",
   "execution_count": null,
   "id": "35b04f61",
   "metadata": {},
   "outputs": [],
   "source": [
    "# We can convert a string into a list by splitting a string using a specified delimiter\n",
    "alldays_list = alldays_string.split(\",\")\n",
    "print(alldays_list)"
   ]
  },
  {
   "cell_type": "code",
   "execution_count": null,
   "id": "4b226d55",
   "metadata": {},
   "outputs": [],
   "source": [
    "# What is the last day of the week?\n",
    "lastday = "
   ]
  },
  {
   "cell_type": "code",
   "execution_count": null,
   "id": "53000ddf",
   "metadata": {},
   "outputs": [],
   "source": []
  },
  {
   "cell_type": "markdown",
   "id": "c4825a54",
   "metadata": {},
   "source": [
    "# Importing and using external libraries"
   ]
  },
  {
   "cell_type": "code",
   "execution_count": null,
   "id": "c1ef5458",
   "metadata": {},
   "outputs": [],
   "source": []
  }
 ],
 "metadata": {
  "kernelspec": {
   "display_name": "Python 3",
   "language": "python",
   "name": "python3"
  },
  "language_info": {
   "codemirror_mode": {
    "name": "ipython",
    "version": 3
   },
   "file_extension": ".py",
   "mimetype": "text/x-python",
   "name": "python",
   "nbconvert_exporter": "python",
   "pygments_lexer": "ipython3",
   "version": "3.8.8"
  }
 },
 "nbformat": 4,
 "nbformat_minor": 5
}
