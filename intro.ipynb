{
 "cells": [
  {
   "cell_type": "markdown",
   "id": "ff79a4bd",
   "metadata": {},
   "source": [
    "# Basic string operations"
   ]
  },
  {
   "cell_type": "code",
   "execution_count": null,
   "id": "7e003fd1",
   "metadata": {},
   "outputs": [],
   "source": [
    "# Declaring a string\n",
    "test = \"Dies ist ein Test.\""
   ]
  },
  {
   "cell_type": "code",
   "execution_count": null,
   "id": "f9f49850",
   "metadata": {},
   "outputs": [],
   "source": [
    "# To check whether a string contains a sub-string, use: sub-string in string\n",
    "\"ist\" in test"
   ]
  },
  {
   "cell_type": "code",
   "execution_count": null,
   "id": "169d451d",
   "metadata": {},
   "outputs": [],
   "source": [
    "# Functions are defined like this:\n",
    "# def FUNCTION_NAME(arguments):\n",
    "# where arguments is either empty (== \"()\") or specifies the variable name (e.g. \"(value)\")\n",
    "# Note that argument ordering is important when calling a function!\n",
    "\n",
    "# This function takes some string as its first argument (variable name \"string\")\n",
    "# and another string as its second argument (variable name \"to_check\").\n",
    "# The function then simply checks if \"string\" contains \"to_check\" or not and outputs the answer.\n",
    "def does_string_contain(string, to_check):\n",
    "    if to_check not in string:\n",
    "        print(\"The string '\", string ,\"' does not contain '\", to_check, \"'\")\n",
    "    else:\n",
    "        print(\"The string '\", string ,\"' does contain '\", to_check, \"'\")\n",
    "\n",
    "does_string_contain(test, \"test\")"
   ]
  },
  {
   "cell_type": "code",
   "execution_count": null,
   "id": "1ca35014",
   "metadata": {},
   "outputs": [],
   "source": [
    "test = test.lower()"
   ]
  },
  {
   "cell_type": "code",
   "execution_count": null,
   "id": "a4299495",
   "metadata": {},
   "outputs": [],
   "source": [
    "does_string_contain(test, \"test\")"
   ]
  },
  {
   "cell_type": "code",
   "execution_count": null,
   "id": "3b556feb",
   "metadata": {},
   "outputs": [],
   "source": []
  },
  {
   "cell_type": "markdown",
   "id": "089b3451",
   "metadata": {},
   "source": [
    "# Basic integer operations"
   ]
  },
  {
   "cell_type": "code",
   "execution_count": null,
   "id": "2dab3c3c",
   "metadata": {},
   "outputs": [],
   "source": [
    "number = 1\n",
    "print(number)"
   ]
  },
  {
   "cell_type": "code",
   "execution_count": null,
   "id": "1f2ed1ac",
   "metadata": {},
   "outputs": [],
   "source": []
  },
  {
   "cell_type": "code",
   "execution_count": null,
   "id": "ad1d333e",
   "metadata": {},
   "outputs": [],
   "source": [
    "number += 1\n",
    "print(number)"
   ]
  },
  {
   "cell_type": "code",
   "execution_count": null,
   "id": "cef55996",
   "metadata": {},
   "outputs": [],
   "source": []
  },
  {
   "cell_type": "markdown",
   "id": "c90c210f",
   "metadata": {},
   "source": [
    "# Basic type casting and interaction between strings and integers"
   ]
  },
  {
   "cell_type": "code",
   "execution_count": null,
   "id": "595cee3a",
   "metadata": {},
   "outputs": [],
   "source": [
    "print(\"I combine\", test, \"with\", number)"
   ]
  },
  {
   "cell_type": "code",
   "execution_count": null,
   "id": "f2414ae6",
   "metadata": {},
   "outputs": [],
   "source": [
    "new_test = test + number\n",
    "print(new_test)"
   ]
  },
  {
   "cell_type": "code",
   "execution_count": null,
   "id": "144f34bd",
   "metadata": {},
   "outputs": [],
   "source": [
    "new_test = test + str(number)\n",
    "print(new_test)"
   ]
  },
  {
   "cell_type": "code",
   "execution_count": null,
   "id": "2f291e0e",
   "metadata": {},
   "outputs": [],
   "source": []
  },
  {
   "cell_type": "markdown",
   "id": "dcea9131",
   "metadata": {},
   "source": [
    "# Arrays/Lists"
   ]
  },
  {
   "cell_type": "code",
   "execution_count": 7,
   "id": "0cc5065b",
   "metadata": {},
   "outputs": [],
   "source": [
    "empty_list = []\n",
    "filled_list = [\"reiwa\", \"heisei\", \"showa\"]\n",
    "alldays_string = \"Monday,Tuesday,Wednesday,Thursday,Friday,Saturday,Sunday\""
   ]
  },
  {
   "cell_type": "code",
   "execution_count": 8,
   "id": "6192d6ea",
   "metadata": {},
   "outputs": [],
   "source": [
    "# To add an element to a List, use the \".append(element)\" function\n",
    "empty_list.append(1)\n",
    "empty_list.append(2)\n",
    "empty_list.append(4)"
   ]
  },
  {
   "cell_type": "code",
   "execution_count": 10,
   "id": "ac9a0bfd",
   "metadata": {},
   "outputs": [
    {
     "name": "stdout",
     "output_type": "stream",
     "text": [
      "[1, 2, 4]\n"
     ]
    }
   ],
   "source": [
    "print(empty_list)"
   ]
  },
  {
   "cell_type": "code",
   "execution_count": 11,
   "id": "a5cd0a98",
   "metadata": {},
   "outputs": [
    {
     "data": {
      "text/plain": [
       "1"
      ]
     },
     "execution_count": 11,
     "metadata": {},
     "output_type": "execute_result"
    }
   ],
   "source": [
    "# List elements are accessed using the index, which starts at 0 (== first element)\n",
    "empty_list[0]"
   ]
  },
  {
   "cell_type": "code",
   "execution_count": 3,
   "id": "75ebded4",
   "metadata": {},
   "outputs": [],
   "source": [
    "alldays_list = alldays_string.split(\",\")\n",
    "print(alldays_list)"
   ]
  },
  {
   "cell_type": "code",
   "execution_count": null,
   "id": "82e05103",
   "metadata": {},
   "outputs": [],
   "source": [
    "# What is the last day of the week?\n",
    "lastday = "
   ]
  },
  {
   "cell_type": "code",
   "execution_count": null,
   "id": "36a70198",
   "metadata": {},
   "outputs": [],
   "source": []
  }
 ],
 "metadata": {
  "kernelspec": {
   "display_name": "Python 3",
   "language": "python",
   "name": "python3"
  },
  "language_info": {
   "codemirror_mode": {
    "name": "ipython",
    "version": 3
   },
   "file_extension": ".py",
   "mimetype": "text/x-python",
   "name": "python",
   "nbconvert_exporter": "python",
   "pygments_lexer": "ipython3",
   "version": "3.8.8"
  }
 },
 "nbformat": 4,
 "nbformat_minor": 5
}
