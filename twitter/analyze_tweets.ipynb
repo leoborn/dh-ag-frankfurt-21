{
 "cells": [
  {
   "cell_type": "code",
   "execution_count": null,
   "id": "ccfbf0ee",
   "metadata": {},
   "outputs": [],
   "source": [
    "# Since we saved our tweets of interest in a binary file, we need pickle to read them again.\n",
    "import pickle\n",
    "# Since we want to report some statistics, we import FreqDist.\n",
    "from nltk import FreqDist\n",
    "import spacy\n",
    "# We initialize a Japanese NLP pipeline with the medium-sized language model.\n",
    "nlp = spacy.load('ja_core_news_md')"
   ]
  },
  {
   "cell_type": "code",
   "execution_count": null,
   "id": "cd62132c",
   "metadata": {},
   "outputs": [],
   "source": [
    "with open(\"./tweets.obj\", \"rb\") as my_file:\n",
    "    original_tweets = pickle.load(my_file)"
   ]
  },
  {
   "cell_type": "markdown",
   "id": "52e6bc45",
   "metadata": {},
   "source": [
    "# Task: Get all named entities in the tweets by type"
   ]
  },
  {
   "cell_type": "code",
   "execution_count": null,
   "id": "dcb45348",
   "metadata": {},
   "outputs": [],
   "source": [
    "named_entities_by_type = {}\n",
    "for tweet in original_tweets:\n",
    "    if tweet.lang == \"ja\":\n",
    "        print(\"Tweet:\", tweet.full_text)\n",
    "        doc = nlp(tweet.full_text)\n",
    "        for named_entity in doc.ents:\n",
    "            ne = named_entity.text\n",
    "            ne_label = named_entity.label_\n",
    "            print(ne, ne_label)\n",
    "            # Why is this step necessary?\n",
    "            if ne_label not in named_entities_by_type:\n",
    "                named_entities_by_type[ne_label] = []\n",
    "            named_entities_by_type[ne_label].append(ne)"
   ]
  },
  {
   "cell_type": "code",
   "execution_count": null,
   "id": "a37fee50",
   "metadata": {},
   "outputs": [],
   "source": [
    "print(named_entities_by_type)"
   ]
  },
  {
   "cell_type": "code",
   "execution_count": null,
   "id": "65b7e889",
   "metadata": {},
   "outputs": [],
   "source": [
    "products = named_entities_by_type[\"PRODUCT\"]\n",
    "fdist = FreqDist(products)\n",
    "print(fdist.most_common(20))"
   ]
  },
  {
   "cell_type": "markdown",
   "id": "26b495d5",
   "metadata": {},
   "source": [
    "## Sub-task: Is the glass full or half full?\n",
    "What was the problem above?"
   ]
  },
  {
   "cell_type": "code",
   "execution_count": null,
   "id": "226c66d9",
   "metadata": {},
   "outputs": [],
   "source": [
    "import unicodedata\n",
    "normalized_products = []\n",
    "for prod in products:\n",
    "    norm_prod = unicodedata.normalize('NFKC', prod)\n",
    "    normalized_products.append(norm_prod)"
   ]
  },
  {
   "cell_type": "code",
   "execution_count": null,
   "id": "9156fe9a",
   "metadata": {},
   "outputs": [],
   "source": [
    "fdist = FreqDist(normalized_products)\n",
    "print(fdist.most_common(20))"
   ]
  },
  {
   "cell_type": "markdown",
   "id": "c14cab8c",
   "metadata": {},
   "source": [
    "# Exercise: Get the tweet with most retweets"
   ]
  },
  {
   "cell_type": "code",
   "execution_count": null,
   "id": "a4d28010",
   "metadata": {},
   "outputs": [],
   "source": [
    "# Set initial value for most retweets to zero.\n",
    "most_retweets = 0\n",
    "\n",
    "# We want to iterate over all tweets.\n",
    "# 1. For each tweet, we get the retweet count.\n",
    "# 2. If the value is higher than our variable \"most_retweets\", we do this:\n",
    "# 2.1. Set most_retweets to the value of the retweet count\n",
    "# 2.2. Set a new variable \"best_tweet\" with the value of the current tweet.\n",
    "for tweet in original_tweets:\n",
    "    # YOUR CODE COMES HERE "
   ]
  },
  {
   "cell_type": "code",
   "execution_count": null,
   "id": "9bc6a850",
   "metadata": {},
   "outputs": [],
   "source": [
    "print(\"Tweet:\", best_tweet.full_text)\n",
    "print(\"Retweet count:\", best_tweet.retweet_count)\n",
    "print(\"User info:\", best_tweet.user)"
   ]
  },
  {
   "cell_type": "markdown",
   "id": "1c06c7e6",
   "metadata": {},
   "source": [
    "# Exercise: Get the user location distribution"
   ]
  },
  {
   "cell_type": "code",
   "execution_count": null,
   "id": "2eb3b1ea",
   "metadata": {},
   "outputs": [],
   "source": [
    "# We initialize an empty List.\n",
    "user_locations = []\n",
    "for tweet in original_tweets:\n",
    "    user = "
   ]
  },
  {
   "cell_type": "code",
   "execution_count": null,
   "id": "1d28862a",
   "metadata": {},
   "outputs": [],
   "source": [
    "fdist = \n",
    "print(fdist.most_common(20))"
   ]
  }
 ],
 "metadata": {
  "kernelspec": {
   "display_name": "Python 3",
   "language": "python",
   "name": "python3"
  },
  "language_info": {
   "codemirror_mode": {
    "name": "ipython",
    "version": 3
   },
   "file_extension": ".py",
   "mimetype": "text/x-python",
   "name": "python",
   "nbconvert_exporter": "python",
   "pygments_lexer": "ipython3",
   "version": "3.8.8"
  }
 },
 "nbformat": 4,
 "nbformat_minor": 5
}
