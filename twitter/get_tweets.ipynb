{
 "cells": [
  {
   "cell_type": "code",
   "execution_count": null,
   "id": "8d10fa93",
   "metadata": {
    "scrolled": true
   },
   "outputs": [],
   "source": [
    "# This is the Twitter library we use.\n",
    "import twitter\n",
    "# Since we want to report some statistics, we import FreqDist.\n",
    "from nltk import FreqDist\n",
    "# This library is for saving binary objects to files.\n",
    "import pickle"
   ]
  },
  {
   "cell_type": "code",
   "execution_count": null,
   "id": "9e89b235",
   "metadata": {
    "scrolled": true
   },
   "outputs": [],
   "source": [
    "# Initialize the Twitter library with our credentials.\n",
    "api = twitter.Api(\n",
    "  consumer_key='',\n",
    "  consumer_secret='',\n",
    "  access_token_key='',\n",
    "  access_token_secret='',\n",
    "  cache=None,\n",
    "  # Set tweet_mode to 'extended' to get full-text tweets instead of shortened tweets.\n",
    "  tweet_mode= 'extended'\n",
    ")\n",
    "print(api.VerifyCredentials())"
   ]
  },
  {
   "cell_type": "markdown",
   "id": "f4e54972",
   "metadata": {},
   "source": [
    "# 東京五輪 is worth a thousand tweets"
   ]
  },
  {
   "cell_type": "code",
   "execution_count": null,
   "id": "1ff4409c",
   "metadata": {
    "scrolled": true
   },
   "outputs": [],
   "source": [
    "# The actual query is formatted as a raw Twitter query.\n",
    "# Here we want to get 1000 tweets containing the hashtag (== \"%23\") 東京五輪.\n",
    "tweets = api.GetSearch(\n",
    "  raw_query=\"q=%23東京五輪&result_type=recent&count=1000\"\n",
    ")"
   ]
  },
  {
   "cell_type": "code",
   "execution_count": null,
   "id": "817bb9b4",
   "metadata": {
    "scrolled": true
   },
   "outputs": [],
   "source": [
    "print(tweets[0])"
   ]
  },
  {
   "cell_type": "code",
   "execution_count": null,
   "id": "f3370989",
   "metadata": {},
   "outputs": [],
   "source": [
    "# We want to keep those that are not retweets.\n",
    "original_tweets = []"
   ]
  },
  {
   "cell_type": "code",
   "execution_count": null,
   "id": "55e65656",
   "metadata": {
    "scrolled": true
   },
   "outputs": [],
   "source": [
    "# Iterate over all tweets and print the full text alongside some metadata.\n",
    "for tweet in tweets:\n",
    "    # To access any sub-part of a tweet (text or metadata), note that the internal model\n",
    "    # resembles a dictionary; therefore, each attribute must be accessed as such.\n",
    "    print(\"Tweet:\", tweet.full_text)\n",
    "    print(\"Tweet language:\", tweet.lang)\n",
    "    print(\"Number of hashtags:\", len(tweet.hashtags))\n",
    "    print(\"Number of retweets:\", tweet.retweet_count)\n",
    "    print(\"Location:\", tweet.location)\n",
    "    if tweet.retweeted_status is not None:\n",
    "        print(\"Is retweet: Yes\")\n",
    "        #print(tweet.retweeted_status)\n",
    "        print(\"Original tweet:\", tweet.retweeted_status.full_text)\n",
    "    else:\n",
    "        print(\"Is retweet: No\")\n",
    "        # We add non-retweet tweets (i.e. original tweets) to our List of interest.\n",
    "        original_tweets.append(tweet)\n",
    "    print(\"-----\")"
   ]
  },
  {
   "cell_type": "code",
   "execution_count": null,
   "id": "35deab99",
   "metadata": {},
   "outputs": [],
   "source": [
    "print(\"Number of original tweets out of\", len(tweets),\"in total:\", len(original_tweets))"
   ]
  },
  {
   "cell_type": "code",
   "execution_count": null,
   "id": "99a7fa87",
   "metadata": {},
   "outputs": [],
   "source": [
    "# Since the List original_tweets contains custom objects defined by the python-twitter library,\n",
    "# we cannot save them as a plain text file.\n",
    "# Instead we will save them inside a binary \"as-is\" file using pickle.\n",
    "with open(\"./tweets.obj\", \"wb\") as my_file:\n",
    "    pickle.dump(original_tweets, my_file)"
   ]
  },
  {
   "cell_type": "markdown",
   "id": "c317b626",
   "metadata": {},
   "source": [
    "# NIMBY: Hashtags most associated with 東京五輪"
   ]
  },
  {
   "cell_type": "code",
   "execution_count": null,
   "id": "4a6fbee6",
   "metadata": {
    "scrolled": true
   },
   "outputs": [],
   "source": [
    "# We initialize an empty List to store all hashtags.\n",
    "all_hashtags = []\n",
    "for tweet in tweets:\n",
    "  # Hashtags associated with a tweet are store in a List.\n",
    "  # Thus, we can simply loop over each element of that List as well.\n",
    "  for hashtag in tweet.hashtags:\n",
    "    # As before, the internal model (now for hashtags) necessitates accessing attributes individually.\n",
    "    all_hashtags.append(hashtag.text)"
   ]
  },
  {
   "cell_type": "code",
   "execution_count": null,
   "id": "c765e774",
   "metadata": {
    "scrolled": true
   },
   "outputs": [],
   "source": [
    "print(\"Total number of hashtags:\", len(all_hashtags))"
   ]
  },
  {
   "cell_type": "code",
   "execution_count": null,
   "id": "516f4b62",
   "metadata": {},
   "outputs": [],
   "source": [
    "fdist = FreqDist(all_hashtags)\n",
    "print(\"Total number of distinct hashtags:\", len(fdist.keys()))"
   ]
  },
  {
   "cell_type": "code",
   "execution_count": null,
   "id": "a67aeb18",
   "metadata": {
    "scrolled": true
   },
   "outputs": [],
   "source": [
    "print(\"Most common hashtags and their frequencies:\")\n",
    "print(fdist.most_common(50))"
   ]
  },
  {
   "cell_type": "code",
   "execution_count": null,
   "id": "30790446",
   "metadata": {},
   "outputs": [],
   "source": []
  }
 ],
 "metadata": {
  "kernelspec": {
   "display_name": "Python 3",
   "language": "python",
   "name": "python3"
  },
  "language_info": {
   "codemirror_mode": {
    "name": "ipython",
    "version": 3
   },
   "file_extension": ".py",
   "mimetype": "text/x-python",
   "name": "python",
   "nbconvert_exporter": "python",
   "pygments_lexer": "ipython3",
   "version": "3.8.8"
  }
 },
 "nbformat": 4,
 "nbformat_minor": 5
}
