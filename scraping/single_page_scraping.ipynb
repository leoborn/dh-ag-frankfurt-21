{
 "cells": [
  {
   "cell_type": "code",
   "execution_count": null,
   "id": "96856494",
   "metadata": {},
   "outputs": [],
   "source": [
    "# This sub-package allows us to retrieve the contents of an URL.\n",
    "import urllib.request\n",
    "# This sub-package is used to encode CJK/unicode characters in an URL.\n",
    "import urllib.parse\n",
    "# Our HTML parser is provided by BeautifulSoup.\n",
    "from bs4 import BeautifulSoup"
   ]
  },
  {
   "cell_type": "code",
   "execution_count": null,
   "id": "075b96fb",
   "metadata": {},
   "outputs": [],
   "source": [
    "LINK_ENG = 'https://en.wikipedia.org/wiki/Japan'\n",
    "LINK_JPN = 'https://ja.wikipedia.org/wiki/' + urllib.parse.quote('日本')"
   ]
  },
  {
   "cell_type": "code",
   "execution_count": null,
   "id": "04e19344",
   "metadata": {},
   "outputs": [],
   "source": [
    "# Here, we create an HTTP request for the chosen URL.\n",
    "page = urllib.request.Request(LINK_ENG, headers={'User-Agent': 'Mozilla/5.0'})"
   ]
  },
  {
   "cell_type": "code",
   "execution_count": null,
   "id": "db500aa8",
   "metadata": {},
   "outputs": [],
   "source": [
    "# These two lines now actually retrieve the contents of the URL and\n",
    "# store them in the variable \"html_data\"\n",
    "with urllib.request.urlopen(page) as response:\n",
    "  html_data = response.read()\n",
    "\n",
    "print(html_data)"
   ]
  },
  {
   "cell_type": "code",
   "execution_count": null,
   "id": "9067e604",
   "metadata": {},
   "outputs": [],
   "source": [
    "# This is the main part, allowing us to parse the HTML data retrieved above.\n",
    "soup = BeautifulSoup(html_data, 'html.parser')"
   ]
  },
  {
   "cell_type": "code",
   "execution_count": null,
   "id": "83908ac4",
   "metadata": {},
   "outputs": [],
   "source": [
    "# Print the title (as an HTML element)\n",
    "print(soup.title)"
   ]
  },
  {
   "cell_type": "code",
   "execution_count": null,
   "id": "e50db12b",
   "metadata": {},
   "outputs": [],
   "source": [
    "# Print the title (as String)\n",
    "print(soup.title.string)"
   ]
  },
  {
   "cell_type": "code",
   "execution_count": null,
   "id": "d29b3267",
   "metadata": {},
   "outputs": [],
   "source": [
    "# Print the full-text\n",
    "print(soup.get_text())"
   ]
  },
  {
   "cell_type": "markdown",
   "id": "55dbc7f9",
   "metadata": {},
   "source": [
    "# Example 1: Get the table of contents of the Wikipedia page"
   ]
  },
  {
   "cell_type": "code",
   "execution_count": null,
   "id": "052c3a89",
   "metadata": {},
   "outputs": [],
   "source": [
    "# There are two approaches to this:\n",
    "#\n",
    "# 1.\n",
    "# 1.1. Iterate over all div elements.\n",
    "for div in soup.find_all('div'):\n",
    "  # Get a div's ID and check if it says \"toc\".\n",
    "  if div.get('id') == \"toc\":\n",
    "    # If so, use it as the TOC\n",
    "    toc = div\n",
    "    # Break the loop as we do not need to check any more divs.\n",
    "    break"
   ]
  },
  {
   "cell_type": "code",
   "execution_count": null,
   "id": "374b2665",
   "metadata": {},
   "outputs": [],
   "source": [
    "print(\"TOC (first method):\", toc)"
   ]
  },
  {
   "cell_type": "code",
   "execution_count": null,
   "id": "7212abff",
   "metadata": {},
   "outputs": [],
   "source": [
    "# OR\n",
    "#\n",
    "# 2.\n",
    "# 2.1. Get the first div element with id \"toc\" in one command.\n",
    "toc = soup.find(name=\"div\", attrs={\"id\":\"toc\"})"
   ]
  },
  {
   "cell_type": "code",
   "execution_count": null,
   "id": "1333dd18",
   "metadata": {},
   "outputs": [],
   "source": [
    "print(\"TOC (second method):\", toc)"
   ]
  },
  {
   "cell_type": "code",
   "execution_count": null,
   "id": "d84d5e25",
   "metadata": {},
   "outputs": [],
   "source": [
    "# We just want to show the text of the TOC, so\n",
    "# we get the outermost list element\n",
    "toc_list = toc.find('ul')\n",
    "print(toc_list)"
   ]
  },
  {
   "cell_type": "code",
   "execution_count": null,
   "id": "8638a3e1",
   "metadata": {},
   "outputs": [],
   "source": [
    "# We iterate over each list element that has the class \"toclevel-1\".\n",
    "for list_element in toc_list.find_all(name=\"li\", attrs={\"class\":\"toclevel-1\"}):\n",
    "    # We print out the text of the list element without surrounding whitespaces.\n",
    "    print(list_element.text.strip())"
   ]
  },
  {
   "cell_type": "markdown",
   "id": "456d96c2",
   "metadata": {},
   "source": [
    "# Example 2: Get the basic tabular data from the info box of a Wikipedia page"
   ]
  },
  {
   "cell_type": "code",
   "execution_count": null,
   "id": "af3bc1ab",
   "metadata": {},
   "outputs": [],
   "source": [
    "# Initialize empty dictionary to store contents of infobox.\n",
    "infobox_dict = {}\n",
    "# Get the first table element with class \"infobox\".\n",
    "infobox = soup.find(name=\"table\", attrs={\"class\":\"infobox\"})\n",
    "print(infobox)"
   ]
  },
  {
   "cell_type": "code",
   "execution_count": null,
   "id": "002ab29b",
   "metadata": {},
   "outputs": [],
   "source": [
    "# Iterate over all table rows in the infobox.\n",
    "for table_row in infobox.find_all('tr'):\n",
    "  # Get the row's first column.\n",
    "  row_key = table_row.find('th')\n",
    "  # Get the row's second column.\n",
    "  row_value = table_row.find('td')\n",
    "  # Only proceed if both are valid\n",
    "  if row_key is not None and row_value is not None:\n",
    "    # Get the text values for first and second columns.\n",
    "    row_key_text = row_key.text\n",
    "    row_value_text = row_value.text\n",
    "    print(row_key_text,\":\", row_value_text)\n",
    "    infobox_dict[row_key_text] = row_value_text"
   ]
  },
  {
   "cell_type": "code",
   "execution_count": null,
   "id": "7370fe3b",
   "metadata": {},
   "outputs": [],
   "source": [
    "print(\"Infobox:\", infobox_dict)"
   ]
  },
  {
   "cell_type": "code",
   "execution_count": null,
   "id": "713c83ad",
   "metadata": {},
   "outputs": [],
   "source": []
  }
 ],
 "metadata": {
  "kernelspec": {
   "display_name": "Python 3",
   "language": "python",
   "name": "python3"
  },
  "language_info": {
   "codemirror_mode": {
    "name": "ipython",
    "version": 3
   },
   "file_extension": ".py",
   "mimetype": "text/x-python",
   "name": "python",
   "nbconvert_exporter": "python",
   "pygments_lexer": "ipython3",
   "version": "3.8.8"
  }
 },
 "nbformat": 4,
 "nbformat_minor": 5
}
